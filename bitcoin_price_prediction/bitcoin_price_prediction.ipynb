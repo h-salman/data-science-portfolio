{
 "cells": [
  {
   "cell_type": "markdown",
   "id": "7131acf1",
   "metadata": {},
   "source": [
    "### Bitcoin Price Prediction\n",
    "The goal of this mini-project is to predict the price of the digital currency Bitcoin for the next 30 days using Support Vector Machine"
   ]
  },
  {
   "cell_type": "code",
   "execution_count": 1,
   "id": "476cce47",
   "metadata": {},
   "outputs": [
    {
     "data": {
      "text/html": [
       "<div>\n",
       "<style scoped>\n",
       "    .dataframe tbody tr th:only-of-type {\n",
       "        vertical-align: middle;\n",
       "    }\n",
       "\n",
       "    .dataframe tbody tr th {\n",
       "        vertical-align: top;\n",
       "    }\n",
       "\n",
       "    .dataframe thead th {\n",
       "        text-align: right;\n",
       "    }\n",
       "</style>\n",
       "<table border=\"1\" class=\"dataframe\">\n",
       "  <thead>\n",
       "    <tr style=\"text-align: right;\">\n",
       "      <th></th>\n",
       "      <th>Date</th>\n",
       "      <th>Price</th>\n",
       "    </tr>\n",
       "  </thead>\n",
       "  <tbody>\n",
       "    <tr>\n",
       "      <th>0</th>\n",
       "      <td>5/23/2019</td>\n",
       "      <td>7881.846680</td>\n",
       "    </tr>\n",
       "    <tr>\n",
       "      <th>1</th>\n",
       "      <td>5/24/2019</td>\n",
       "      <td>7987.371582</td>\n",
       "    </tr>\n",
       "    <tr>\n",
       "      <th>2</th>\n",
       "      <td>5/25/2019</td>\n",
       "      <td>8052.543945</td>\n",
       "    </tr>\n",
       "    <tr>\n",
       "      <th>3</th>\n",
       "      <td>5/26/2019</td>\n",
       "      <td>8673.215820</td>\n",
       "    </tr>\n",
       "    <tr>\n",
       "      <th>4</th>\n",
       "      <td>5/27/2019</td>\n",
       "      <td>8805.778320</td>\n",
       "    </tr>\n",
       "  </tbody>\n",
       "</table>\n",
       "</div>"
      ],
      "text/plain": [
       "        Date        Price\n",
       "0  5/23/2019  7881.846680\n",
       "1  5/24/2019  7987.371582\n",
       "2  5/25/2019  8052.543945\n",
       "3  5/26/2019  8673.215820\n",
       "4  5/27/2019  8805.778320"
      ]
     },
     "execution_count": 1,
     "metadata": {},
     "output_type": "execute_result"
    }
   ],
   "source": [
    "#import the necessary libraries\n",
    "import numpy as np\n",
    "import pandas as pd\n",
    "\n",
    "df = pd.read_csv(\"bitcoin.csv\")\n",
    "df.head()"
   ]
  },
  {
   "cell_type": "markdown",
   "id": "04342bf3",
   "metadata": {},
   "source": [
    "Remve the date column"
   ]
  },
  {
   "cell_type": "code",
   "execution_count": 2,
   "id": "d7df09e2",
   "metadata": {},
   "outputs": [],
   "source": [
    "df.drop([\"Date\"],axis=1, inplace=True)"
   ]
  },
  {
   "cell_type": "markdown",
   "id": "3d473a2c",
   "metadata": {},
   "source": [
    "Creating a variable to predict 'n' days into the future. In order to accomplish this, we will shift the dataframe by 30 rows"
   ]
  },
  {
   "cell_type": "code",
   "execution_count": 3,
   "id": "d901bed1",
   "metadata": {},
   "outputs": [
    {
     "data": {
      "text/html": [
       "<div>\n",
       "<style scoped>\n",
       "    .dataframe tbody tr th:only-of-type {\n",
       "        vertical-align: middle;\n",
       "    }\n",
       "\n",
       "    .dataframe tbody tr th {\n",
       "        vertical-align: top;\n",
       "    }\n",
       "\n",
       "    .dataframe thead th {\n",
       "        text-align: right;\n",
       "    }\n",
       "</style>\n",
       "<table border=\"1\" class=\"dataframe\">\n",
       "  <thead>\n",
       "    <tr style=\"text-align: right;\">\n",
       "      <th></th>\n",
       "      <th>Price</th>\n",
       "      <th>Prediction</th>\n",
       "    </tr>\n",
       "  </thead>\n",
       "  <tbody>\n",
       "    <tr>\n",
       "      <th>0</th>\n",
       "      <td>7881.846680</td>\n",
       "      <td>10701.69141</td>\n",
       "    </tr>\n",
       "    <tr>\n",
       "      <th>1</th>\n",
       "      <td>7987.371582</td>\n",
       "      <td>10855.37109</td>\n",
       "    </tr>\n",
       "    <tr>\n",
       "      <th>2</th>\n",
       "      <td>8052.543945</td>\n",
       "      <td>11011.10254</td>\n",
       "    </tr>\n",
       "    <tr>\n",
       "      <th>3</th>\n",
       "      <td>8673.215820</td>\n",
       "      <td>11790.91699</td>\n",
       "    </tr>\n",
       "    <tr>\n",
       "      <th>4</th>\n",
       "      <td>8805.778320</td>\n",
       "      <td>13016.23145</td>\n",
       "    </tr>\n",
       "  </tbody>\n",
       "</table>\n",
       "</div>"
      ],
      "text/plain": [
       "         Price   Prediction\n",
       "0  7881.846680  10701.69141\n",
       "1  7987.371582  10855.37109\n",
       "2  8052.543945  11011.10254\n",
       "3  8673.215820  11790.91699\n",
       "4  8805.778320  13016.23145"
      ]
     },
     "execution_count": 3,
     "metadata": {},
     "output_type": "execute_result"
    }
   ],
   "source": [
    "predictionDays = 30\n",
    "#Create another column shifted 'n' rows up\n",
    "df[\"Prediction\"] = df[[\"Price\"]].shift(-predictionDays)\n",
    "df.head()"
   ]
  },
  {
   "cell_type": "markdown",
   "id": "6a35956c",
   "metadata": {},
   "source": [
    "Display the last 5 rows of the new dataset"
   ]
  },
  {
   "cell_type": "code",
   "execution_count": 4,
   "id": "8ae402a9",
   "metadata": {},
   "outputs": [
    {
     "data": {
      "text/html": [
       "<div>\n",
       "<style scoped>\n",
       "    .dataframe tbody tr th:only-of-type {\n",
       "        vertical-align: middle;\n",
       "    }\n",
       "\n",
       "    .dataframe tbody tr th {\n",
       "        vertical-align: top;\n",
       "    }\n",
       "\n",
       "    .dataframe thead th {\n",
       "        text-align: right;\n",
       "    }\n",
       "</style>\n",
       "<table border=\"1\" class=\"dataframe\">\n",
       "  <thead>\n",
       "    <tr style=\"text-align: right;\">\n",
       "      <th></th>\n",
       "      <th>Price</th>\n",
       "      <th>Prediction</th>\n",
       "    </tr>\n",
       "  </thead>\n",
       "  <tbody>\n",
       "    <tr>\n",
       "      <th>362</th>\n",
       "      <td>9729.038086</td>\n",
       "      <td>NaN</td>\n",
       "    </tr>\n",
       "    <tr>\n",
       "      <th>363</th>\n",
       "      <td>9522.981445</td>\n",
       "      <td>NaN</td>\n",
       "    </tr>\n",
       "    <tr>\n",
       "      <th>364</th>\n",
       "      <td>9081.761719</td>\n",
       "      <td>NaN</td>\n",
       "    </tr>\n",
       "    <tr>\n",
       "      <th>365</th>\n",
       "      <td>9182.577148</td>\n",
       "      <td>NaN</td>\n",
       "    </tr>\n",
       "    <tr>\n",
       "      <th>366</th>\n",
       "      <td>9180.045898</td>\n",
       "      <td>NaN</td>\n",
       "    </tr>\n",
       "  </tbody>\n",
       "</table>\n",
       "</div>"
      ],
      "text/plain": [
       "           Price  Prediction\n",
       "362  9729.038086         NaN\n",
       "363  9522.981445         NaN\n",
       "364  9081.761719         NaN\n",
       "365  9182.577148         NaN\n",
       "366  9180.045898         NaN"
      ]
     },
     "execution_count": 4,
     "metadata": {},
     "output_type": "execute_result"
    }
   ],
   "source": [
    "df.tail()"
   ]
  },
  {
   "cell_type": "markdown",
   "id": "f370b9dc",
   "metadata": {},
   "source": [
    "Creating the training dataset by dropping the predictions column from the dataframe and removing the last 'n' rows (Since there is no prediction/label) for these rows"
   ]
  },
  {
   "cell_type": "code",
   "execution_count": 5,
   "id": "3b6f5707",
   "metadata": {},
   "outputs": [
    {
     "data": {
      "text/plain": [
       "337"
      ]
     },
     "execution_count": 5,
     "metadata": {},
     "output_type": "execute_result"
    }
   ],
   "source": [
    "X = np.array(df.drop([\"Prediction\"],axis=1)).reshape(-1,1)\n",
    "X = X[:-predictionDays,:]\n",
    "len(X)"
   ]
  },
  {
   "cell_type": "markdown",
   "id": "0cb85962",
   "metadata": {},
   "source": [
    "Create an array containing the labels and remove the last 'n' rows"
   ]
  },
  {
   "cell_type": "code",
   "execution_count": 19,
   "id": "19259fc9",
   "metadata": {},
   "outputs": [
    {
     "data": {
      "text/plain": [
       "337"
      ]
     },
     "execution_count": 19,
     "metadata": {},
     "output_type": "execute_result"
    }
   ],
   "source": [
    "y = np.array(df[\"Prediction\"])\n",
    "y = y[:-predictionDays]\n",
    "y = y.reshape(len(y),)\n",
    "len(y)"
   ]
  },
  {
   "cell_type": "markdown",
   "id": "b80e624d",
   "metadata": {},
   "source": [
    "Creating training and testing data sets. We will use sklearn's test_train_split class for this purpose"
   ]
  },
  {
   "cell_type": "code",
   "execution_count": 20,
   "id": "4c48bc10",
   "metadata": {},
   "outputs": [
    {
     "data": {
      "text/plain": [
       "30"
      ]
     },
     "execution_count": 20,
     "metadata": {},
     "output_type": "execute_result"
    }
   ],
   "source": [
    "from sklearn.model_selection import train_test_split\n",
    "#setting fixed seed for reproducibility\n",
    "np.random.seed(42)\n",
    "\n",
    "X_train, X_test, y_train, y_test = train_test_split(X, y, test_size = 0.2)\n",
    "\n",
    "#Assigning the last 'n' observations in the dataframe for which there are no predictions to a separate array\n",
    "predictionDays_array = np.array(df.drop([\"Prediction\"],axis=1))[-predictionDays:].reshape(-1,)\n",
    "len(predictionDays_array)"
   ]
  },
  {
   "cell_type": "markdown",
   "id": "c90f4a08",
   "metadata": {},
   "source": [
    "### Creating a Support Vector Machine model"
   ]
  },
  {
   "cell_type": "code",
   "execution_count": 23,
   "id": "114475cc",
   "metadata": {},
   "outputs": [],
   "source": [
    "from sklearn.svm import SVR\n",
    "# Create and Train the Support Vector Machine (Regression) using radial basis function\n",
    "svr_rbf = SVR(kernel='rbf', C=1e3, gamma=0.00001)"
   ]
  },
  {
   "cell_type": "markdown",
   "id": "44ed7fa4",
   "metadata": {},
   "source": [
    "### Testing the model using Cross Validation"
   ]
  },
  {
   "cell_type": "code",
   "execution_count": 33,
   "id": "39ebdc96",
   "metadata": {},
   "outputs": [
    {
     "name": "stdout",
     "output_type": "stream",
     "text": [
      "Scores: [1332.63343149 1654.75247961 1734.9437256  1035.20060089 1496.60927528\n",
      " 1384.09653238 1669.5744076  1407.95459374 1386.76291655 1461.55722654]\n",
      "Mean: 1456.408518968009\n",
      "Std deviation: 192.13750099062213\n"
     ]
    }
   ],
   "source": [
    "from sklearn.model_selection import cross_val_score\n",
    "scores = cross_val_score(svr_rbf, X_train, y_train, cv=10, scoring='neg_mean_squared_error')\n",
    "svr_rbf_rmse = np.sqrt(-scores)\n",
    "print(\"Scores:\", svr_rbf_rmse)\n",
    "print(\"Mean:\", svr_rbf_rmse.mean())\n",
    "print(\"Std deviation:\", svr_rbf_rmse.std())"
   ]
  },
  {
   "cell_type": "code",
   "execution_count": null,
   "id": "2c8ad7cc",
   "metadata": {},
   "outputs": [],
   "source": []
  }
 ],
 "metadata": {
  "kernelspec": {
   "display_name": "Python 3 (ipykernel)",
   "language": "python",
   "name": "python3"
  },
  "language_info": {
   "codemirror_mode": {
    "name": "ipython",
    "version": 3
   },
   "file_extension": ".py",
   "mimetype": "text/x-python",
   "name": "python",
   "nbconvert_exporter": "python",
   "pygments_lexer": "ipython3",
   "version": "3.7.11"
  }
 },
 "nbformat": 4,
 "nbformat_minor": 5
}
